{
  "nbformat": 4,
  "nbformat_minor": 0,
  "metadata": {
    "colab": {
      "provenance": []
    },
    "kernelspec": {
      "name": "python3",
      "display_name": "Python 3"
    },
    "language_info": {
      "name": "python"
    }
  },
  "cells": [
    {
      "cell_type": "code",
      "execution_count": null,
      "metadata": {
        "colab": {
          "base_uri": "https://localhost:8080/"
        },
        "id": "pGFDBruwVatM",
        "outputId": "9fa8602e-35cb-43a0-f5aa-521b3f5f30c7"
      },
      "outputs": [
        {
          "output_type": "stream",
          "name": "stdout",
          "text": [
            "Items without <g:price> tag:\n",
            "Shopify_US_7661144539365_45615666299109\n",
            "Shopify_US_7661144539365_45615667052773\n",
            "Shopify_US_8296749596901_45615668003045\n",
            "Shopify_US_6847004147877_45615671312613\n",
            "Shopify_US_8296749596901_45615684092133\n",
            "Shopify_US_4654312325256_45615684780261\n",
            "Shopify_US_4654312325256_45615686942949\n",
            "Shopify_US_8208474177765_45615688614117\n",
            "Shopify_US_8258447212773_45615701065957\n",
            "Shopify_US_7661144539365_45615703261413\n",
            "Shopify_US_7661144539365_45615709946085\n",
            "Shopify_US_8296749596901_45615788458213\n",
            "Shopify_US_4654024556680_45615862612197\n",
            "Shopify_US_7049908060325_45615932113125\n",
            "Shopify_US_6847004147877_45616059318501\n",
            "Shopify_US_7661144539365_45616125477093\n",
            "Shopify_US_4876504858760_45616140910821\n",
            "Shopify_US_8514723315941_45616141336805\n",
            "Shopify_US_4876504858760_45616141893861\n",
            "Shopify_US_4876504858760_45616143532261\n",
            "Shopify_US_7686689915109_45616167846117\n",
            "Shopify_US_7661144539365_45616202186981\n",
            "Shopify_US_4654312325256_45616228663525\n",
            "Shopify_US_7661144539365_45616228696293\n",
            "Shopify_US_7661144539365_45616230727909\n",
            "Shopify_US_7661144539365_45616237641957\n",
            "Shopify_US_8399205630181_45616246096101\n",
            "Shopify_US_7661144539365_45616246980837\n",
            "Shopify_US_8296749596901_45616247931109\n",
            "Shopify_US_8399205630181_45616399810789\n",
            "Shopify_US_4658671583368_45616456204517\n",
            "Shopify_US_7661144539365_45616468361445\n",
            "Shopify_US_4658671583368_45616470524133\n",
            "Shopify_US_7661144539365_45616470687973\n",
            "Shopify_US_7661144539365_45616471834853\n",
            "Shopify_US_7661144539365_45616481730789\n",
            "Shopify_US_6847004147877_45616489496805\n",
            "Shopify_US_8296749596901_45616502276325\n",
            "Shopify_US_6847004147877_45616516202725\n",
            "Shopify_US_7686689915109_45616533995749\n",
            "Shopify_US_8399205630181_45616534290661\n",
            "Shopify_US_8296749596901_45616547299557\n",
            "Shopify_US_4658671583368_45616549101797\n",
            "Shopify_US_4658671583368_45616549200101\n",
            "Shopify_US_4658671583368_45616549232869\n",
            "Shopify_US_8296749596901_45616550445285\n",
            "Shopify_US_8439359340773_45616559161573\n",
            "Shopify_US_8296749596901_45616565158117\n",
            "Shopify_US_8296749596901_45616573808869\n",
            "Shopify_US_7693682508005_45616585179365\n",
            "Shopify_US_6847004147877_45616585441509\n",
            "Shopify_US_7661144539365_45616593240293\n",
            "Shopify_US_4654077345928_45616593797349\n",
            "Shopify_US_8200640889061_45616601071845\n",
            "Shopify_US_6847004147877_45616755212517\n",
            "Shopify_US_8738213265637_45616800497893\n",
            "Shopify_US_8296749596901_45616913416421\n",
            "Shopify_US_7661144539365_45616993894629\n",
            "Shopify_US_8296749596901_45617014800613\n",
            "Shopify_US_7661144539365_45617060970725\n"
          ]
        }
      ],
      "source": [
        "import requests\n",
        "import xml.etree.ElementTree as ET\n",
        "\n",
        "# URL of the XML feed\n",
        "url = 'https://app.multifeedforgoogleshopping.com/feed/aTGr_8127326833'\n",
        "\n",
        "# Fetch the XML content\n",
        "response = requests.get(url)\n",
        "root = ET.fromstring(response.content)\n",
        "\n",
        "# Register namespaces\n",
        "namespaces = {'g': 'http://base.google.com/ns/1.0'}\n",
        "\n",
        "# Find all items\n",
        "items = root.findall('.//item', namespaces)\n",
        "\n",
        "# Iterate through items and check for the presence of the <g:price> tag\n",
        "items_without_price = []\n",
        "for item in items:\n",
        "    if item.find('.//g:price', namespaces) is None:\n",
        "        items_without_price.append(item)\n",
        "\n",
        "# Print IDs of items without a <g:price> tag\n",
        "print(\"Items without <g:price> tag:\")\n",
        "for item in items_without_price:\n",
        "    item_id = item.find('.//g:id', namespaces).text\n",
        "    print(item_id)\n"
      ]
    }
  ]
}